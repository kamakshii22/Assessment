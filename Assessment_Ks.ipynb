{
 "cells": [
  {
   "cell_type": "markdown",
   "id": "a4a79b7a",
   "metadata": {},
   "source": [
    "# Health App Data Analysis"
   ]
  },
  {
   "cell_type": "markdown",
   "id": "68579f47",
   "metadata": {},
   "source": [
    "## Introduction\n",
    "This document presents an analysis of a health app dataset aimed at understanding user activity, workout patterns, sleep schedules, and other relevant insights. The analysis is performed using Python and various data visualization libraries."
   ]
  },
  {
   "cell_type": "markdown",
   "id": "34b55544",
   "metadata": {},
   "source": [
    "### Importing Libraries and Loading Data"
   ]
  },
  {
   "cell_type": "code",
   "execution_count": 1,
   "id": "e7657e40",
   "metadata": {},
   "outputs": [],
   "source": [
    "import pandas as pd\n",
    "import numpy as np\n",
    "import matplotlib.pyplot as plt\n",
    "import seaborn as sns\n",
    "import warnings \n",
    "warnings.filterwarnings(\"ignore\")\n",
    "%matplotlib inline"
   ]
  },
  {
   "cell_type": "code",
   "execution_count": 2,
   "id": "2a80cda8",
   "metadata": {},
   "outputs": [
    {
     "data": {
      "text/html": [
       "<div>\n",
       "<style scoped>\n",
       "    .dataframe tbody tr th:only-of-type {\n",
       "        vertical-align: middle;\n",
       "    }\n",
       "\n",
       "    .dataframe tbody tr th {\n",
       "        vertical-align: top;\n",
       "    }\n",
       "\n",
       "    .dataframe thead th {\n",
       "        text-align: right;\n",
       "    }\n",
       "</style>\n",
       "<table border=\"1\" class=\"dataframe\">\n",
       "  <thead>\n",
       "    <tr style=\"text-align: right;\">\n",
       "      <th></th>\n",
       "      <th>LineId</th>\n",
       "      <th>Time</th>\n",
       "      <th>Component</th>\n",
       "      <th>Pid</th>\n",
       "      <th>Content</th>\n",
       "      <th>EventId</th>\n",
       "      <th>EventTemplate</th>\n",
       "    </tr>\n",
       "  </thead>\n",
       "  <tbody>\n",
       "    <tr>\n",
       "      <th>0</th>\n",
       "      <td>1</td>\n",
       "      <td>20171223-22:15:29:606</td>\n",
       "      <td>Step_LSC</td>\n",
       "      <td>30002312</td>\n",
       "      <td>onStandStepChanged 3579</td>\n",
       "      <td>E42</td>\n",
       "      <td>onStandStepChanged &lt;*&gt;</td>\n",
       "    </tr>\n",
       "    <tr>\n",
       "      <th>1</th>\n",
       "      <td>2</td>\n",
       "      <td>20171223-22:15:29:615</td>\n",
       "      <td>Step_LSC</td>\n",
       "      <td>30002312</td>\n",
       "      <td>onExtend:1514038530000 14 0 4</td>\n",
       "      <td>E39</td>\n",
       "      <td>onExtend:&lt;*&gt; &lt;*&gt; &lt;*&gt; &lt;*&gt;</td>\n",
       "    </tr>\n",
       "    <tr>\n",
       "      <th>2</th>\n",
       "      <td>3</td>\n",
       "      <td>20171223-22:15:29:633</td>\n",
       "      <td>Step_StandReportReceiver</td>\n",
       "      <td>30002312</td>\n",
       "      <td>onReceive action: android.intent.action.SCREEN_ON</td>\n",
       "      <td>E41</td>\n",
       "      <td>onReceive action: android.intent.action.SCREEN_ON</td>\n",
       "    </tr>\n",
       "    <tr>\n",
       "      <th>3</th>\n",
       "      <td>4</td>\n",
       "      <td>20171223-22:15:29:635</td>\n",
       "      <td>Step_LSC</td>\n",
       "      <td>30002312</td>\n",
       "      <td>processHandleBroadcastAction action:android.in...</td>\n",
       "      <td>E43</td>\n",
       "      <td>processHandleBroadcastAction action:android.in...</td>\n",
       "    </tr>\n",
       "    <tr>\n",
       "      <th>4</th>\n",
       "      <td>5</td>\n",
       "      <td>20171223-22:15:29:635</td>\n",
       "      <td>Step_StandStepCounter</td>\n",
       "      <td>30002312</td>\n",
       "      <td>flush sensor data</td>\n",
       "      <td>E12</td>\n",
       "      <td>flush sensor data</td>\n",
       "    </tr>\n",
       "  </tbody>\n",
       "</table>\n",
       "</div>"
      ],
      "text/plain": [
       "   LineId                   Time                 Component       Pid  \\\n",
       "0       1  20171223-22:15:29:606                  Step_LSC  30002312   \n",
       "1       2  20171223-22:15:29:615                  Step_LSC  30002312   \n",
       "2       3  20171223-22:15:29:633  Step_StandReportReceiver  30002312   \n",
       "3       4  20171223-22:15:29:635                  Step_LSC  30002312   \n",
       "4       5  20171223-22:15:29:635     Step_StandStepCounter  30002312   \n",
       "\n",
       "                                             Content EventId  \\\n",
       "0                            onStandStepChanged 3579     E42   \n",
       "1                      onExtend:1514038530000 14 0 4     E39   \n",
       "2  onReceive action: android.intent.action.SCREEN_ON     E41   \n",
       "3  processHandleBroadcastAction action:android.in...     E43   \n",
       "4                                  flush sensor data     E12   \n",
       "\n",
       "                                       EventTemplate  \n",
       "0                             onStandStepChanged <*>  \n",
       "1                           onExtend:<*> <*> <*> <*>  \n",
       "2  onReceive action: android.intent.action.SCREEN_ON  \n",
       "3  processHandleBroadcastAction action:android.in...  \n",
       "4                                  flush sensor data  "
      ]
     },
     "execution_count": 2,
     "metadata": {},
     "output_type": "execute_result"
    }
   ],
   "source": [
    "df = pd.read_csv(\"HealthApp_2k.log_structured.csv\")\n",
    "df.head()"
   ]
  },
  {
   "cell_type": "markdown",
   "id": "ef158900",
   "metadata": {},
   "source": [
    "### Exploratory Data Analysis (EDA)"
   ]
  },
  {
   "cell_type": "code",
   "execution_count": 3,
   "id": "1637bfb1",
   "metadata": {},
   "outputs": [
    {
     "name": "stdout",
     "output_type": "stream",
     "text": [
      "<class 'pandas.core.frame.DataFrame'>\n",
      "RangeIndex: 2000 entries, 0 to 1999\n",
      "Data columns (total 7 columns):\n",
      " #   Column         Non-Null Count  Dtype \n",
      "---  ------         --------------  ----- \n",
      " 0   LineId         2000 non-null   int64 \n",
      " 1   Time           2000 non-null   object\n",
      " 2   Component      2000 non-null   object\n",
      " 3   Pid            2000 non-null   int64 \n",
      " 4   Content        2000 non-null   object\n",
      " 5   EventId        2000 non-null   object\n",
      " 6   EventTemplate  2000 non-null   object\n",
      "dtypes: int64(2), object(5)\n",
      "memory usage: 109.5+ KB\n"
     ]
    }
   ],
   "source": [
    "df.info()"
   ]
  },
  {
   "cell_type": "code",
   "execution_count": 4,
   "id": "7b657365",
   "metadata": {},
   "outputs": [
    {
     "data": {
      "text/plain": [
       "(2000, 7)"
      ]
     },
     "execution_count": 4,
     "metadata": {},
     "output_type": "execute_result"
    }
   ],
   "source": [
    "df.shape"
   ]
  },
  {
   "cell_type": "code",
   "execution_count": 5,
   "id": "38bcaaf6",
   "metadata": {},
   "outputs": [
    {
     "data": {
      "text/plain": [
       "Index(['LineId', 'Time', 'Component', 'Pid', 'Content', 'EventId',\n",
       "       'EventTemplate'],\n",
       "      dtype='object')"
      ]
     },
     "execution_count": 5,
     "metadata": {},
     "output_type": "execute_result"
    }
   ],
   "source": [
    "df.columns"
   ]
  },
  {
   "cell_type": "code",
   "execution_count": 6,
   "id": "dcec8bc6",
   "metadata": {},
   "outputs": [
    {
     "data": {
      "text/html": [
       "<div>\n",
       "<style scoped>\n",
       "    .dataframe tbody tr th:only-of-type {\n",
       "        vertical-align: middle;\n",
       "    }\n",
       "\n",
       "    .dataframe tbody tr th {\n",
       "        vertical-align: top;\n",
       "    }\n",
       "\n",
       "    .dataframe thead th {\n",
       "        text-align: right;\n",
       "    }\n",
       "</style>\n",
       "<table border=\"1\" class=\"dataframe\">\n",
       "  <thead>\n",
       "    <tr style=\"text-align: right;\">\n",
       "      <th></th>\n",
       "      <th>LineId</th>\n",
       "      <th>Pid</th>\n",
       "    </tr>\n",
       "  </thead>\n",
       "  <tbody>\n",
       "    <tr>\n",
       "      <th>count</th>\n",
       "      <td>2000.000000</td>\n",
       "      <td>2000.0</td>\n",
       "    </tr>\n",
       "    <tr>\n",
       "      <th>mean</th>\n",
       "      <td>1000.500000</td>\n",
       "      <td>30002312.0</td>\n",
       "    </tr>\n",
       "    <tr>\n",
       "      <th>std</th>\n",
       "      <td>577.494589</td>\n",
       "      <td>0.0</td>\n",
       "    </tr>\n",
       "    <tr>\n",
       "      <th>min</th>\n",
       "      <td>1.000000</td>\n",
       "      <td>30002312.0</td>\n",
       "    </tr>\n",
       "    <tr>\n",
       "      <th>25%</th>\n",
       "      <td>500.750000</td>\n",
       "      <td>30002312.0</td>\n",
       "    </tr>\n",
       "    <tr>\n",
       "      <th>50%</th>\n",
       "      <td>1000.500000</td>\n",
       "      <td>30002312.0</td>\n",
       "    </tr>\n",
       "    <tr>\n",
       "      <th>75%</th>\n",
       "      <td>1500.250000</td>\n",
       "      <td>30002312.0</td>\n",
       "    </tr>\n",
       "    <tr>\n",
       "      <th>max</th>\n",
       "      <td>2000.000000</td>\n",
       "      <td>30002312.0</td>\n",
       "    </tr>\n",
       "  </tbody>\n",
       "</table>\n",
       "</div>"
      ],
      "text/plain": [
       "            LineId         Pid\n",
       "count  2000.000000      2000.0\n",
       "mean   1000.500000  30002312.0\n",
       "std     577.494589         0.0\n",
       "min       1.000000  30002312.0\n",
       "25%     500.750000  30002312.0\n",
       "50%    1000.500000  30002312.0\n",
       "75%    1500.250000  30002312.0\n",
       "max    2000.000000  30002312.0"
      ]
     },
     "execution_count": 6,
     "metadata": {},
     "output_type": "execute_result"
    }
   ],
   "source": [
    "df.describe()"
   ]
  },
  {
   "cell_type": "code",
   "execution_count": 7,
   "id": "3d28e542",
   "metadata": {},
   "outputs": [
    {
     "data": {
      "text/html": [
       "<div>\n",
       "<style scoped>\n",
       "    .dataframe tbody tr th:only-of-type {\n",
       "        vertical-align: middle;\n",
       "    }\n",
       "\n",
       "    .dataframe tbody tr th {\n",
       "        vertical-align: top;\n",
       "    }\n",
       "\n",
       "    .dataframe thead th {\n",
       "        text-align: right;\n",
       "    }\n",
       "</style>\n",
       "<table border=\"1\" class=\"dataframe\">\n",
       "  <thead>\n",
       "    <tr style=\"text-align: right;\">\n",
       "      <th></th>\n",
       "      <th>EventId</th>\n",
       "      <th>EventTemplate</th>\n",
       "    </tr>\n",
       "  </thead>\n",
       "  <tbody>\n",
       "    <tr>\n",
       "      <th>701</th>\n",
       "      <td>E1</td>\n",
       "      <td>Alarm uploadStaticsToDB totalSteps=&lt;*&gt;:&lt;*&gt;:&lt;*&gt;...</td>\n",
       "    </tr>\n",
       "    <tr>\n",
       "      <th>1802</th>\n",
       "      <td>E10</td>\n",
       "      <td>closeNotification...</td>\n",
       "    </tr>\n",
       "    <tr>\n",
       "      <th>1803</th>\n",
       "      <td>E11</td>\n",
       "      <td>deleteHealthNotification()</td>\n",
       "    </tr>\n",
       "    <tr>\n",
       "      <th>4</th>\n",
       "      <td>E12</td>\n",
       "      <td>flush sensor data</td>\n",
       "    </tr>\n",
       "    <tr>\n",
       "      <th>776</th>\n",
       "      <td>E13</td>\n",
       "      <td>flush2DB result success</td>\n",
       "    </tr>\n",
       "    <tr>\n",
       "      <th>...</th>\n",
       "      <td>...</td>\n",
       "      <td>...</td>\n",
       "    </tr>\n",
       "    <tr>\n",
       "      <th>732</th>\n",
       "      <td>E73</td>\n",
       "      <td>uploadStaticsToDB failed message=true</td>\n",
       "    </tr>\n",
       "    <tr>\n",
       "      <th>731</th>\n",
       "      <td>E74</td>\n",
       "      <td>uploadStaticsToDB() onResult  type = &lt;*&gt; obj=true</td>\n",
       "    </tr>\n",
       "    <tr>\n",
       "      <th>702</th>\n",
       "      <td>E75</td>\n",
       "      <td>writeDataToDB size &lt;*&gt;</td>\n",
       "    </tr>\n",
       "    <tr>\n",
       "      <th>733</th>\n",
       "      <td>E8</td>\n",
       "      <td>checkInsertStatus stepSum or calorieSum is enough</td>\n",
       "    </tr>\n",
       "    <tr>\n",
       "      <th>1784</th>\n",
       "      <td>E9</td>\n",
       "      <td>clear()</td>\n",
       "    </tr>\n",
       "  </tbody>\n",
       "</table>\n",
       "<p>75 rows × 2 columns</p>\n",
       "</div>"
      ],
      "text/plain": [
       "     EventId                                      EventTemplate\n",
       "701       E1  Alarm uploadStaticsToDB totalSteps=<*>:<*>:<*>...\n",
       "1802     E10                               closeNotification...\n",
       "1803     E11                         deleteHealthNotification()\n",
       "4        E12                                  flush sensor data\n",
       "776      E13                            flush2DB result success\n",
       "...      ...                                                ...\n",
       "732      E73              uploadStaticsToDB failed message=true\n",
       "731      E74  uploadStaticsToDB() onResult  type = <*> obj=true\n",
       "702      E75                             writeDataToDB size <*>\n",
       "733       E8  checkInsertStatus stepSum or calorieSum is enough\n",
       "1784      E9                                            clear()\n",
       "\n",
       "[75 rows x 2 columns]"
      ]
     },
     "execution_count": 7,
     "metadata": {},
     "output_type": "execute_result"
    }
   ],
   "source": [
    "unique_values = df[['EventId', 'EventTemplate']].sort_values(by=['EventId', 'EventTemplate'], ascending=True).drop_duplicates()\n",
    "unique_values"
   ]
  },
  {
   "cell_type": "code",
   "execution_count": 8,
   "id": "4cd42c9b",
   "metadata": {},
   "outputs": [
    {
     "data": {
      "text/plain": [
       "(75, 2)"
      ]
     },
     "execution_count": 8,
     "metadata": {},
     "output_type": "execute_result"
    }
   ],
   "source": [
    "unique_values.shape"
   ]
  },
  {
   "cell_type": "markdown",
   "id": "10b2b029",
   "metadata": {},
   "source": [
    "### Components Analysis"
   ]
  },
  {
   "cell_type": "code",
   "execution_count": 71,
   "id": "fe14dfdc",
   "metadata": {},
   "outputs": [
    {
     "data": {
      "text/plain": [
       "(array([ 0,  1,  2,  3,  4,  5,  6,  7,  8,  9, 10, 11, 12, 13, 14, 15, 16,\n",
       "        17, 18, 19]),\n",
       " [Text(0, 0, 'Step_LSC'),\n",
       "  Text(1, 0, 'Step_SPUtils'),\n",
       "  Text(2, 0, 'Step_ExtSDM'),\n",
       "  Text(3, 0, 'Step_StandReportReceiver'),\n",
       "  Text(4, 0, 'HiH_HiSyncControl'),\n",
       "  Text(5, 0, 'Step_StandStepCounter'),\n",
       "  Text(6, 0, 'HiH_DataStatManager'),\n",
       "  Text(7, 0, 'HiH_HiHealthDataInsertStore'),\n",
       "  Text(8, 0, 'HiH_'),\n",
       "  Text(9, 0, 'HiH_HiHealthBinder'),\n",
       "  Text(10, 0, 'HiH_HiAppUtil'),\n",
       "  Text(11, 0, 'Step_FlushableStepDataCache'),\n",
       "  Text(12, 0, 'HiH_HiBroadcastUtil'),\n",
       "  Text(13, 0, 'Step_StandStepDataManager'),\n",
       "  Text(14, 0, 'HiH_ListenerManager'),\n",
       "  Text(15, 0, 'HiH_HiSyncUtil'),\n",
       "  Text(16, 0, 'Step_HGNH'),\n",
       "  Text(17, 0, 'Step_ScreenUtil'),\n",
       "  Text(18, 0, 'Step_DataCache'),\n",
       "  Text(19, 0, 'Step_NotificationUtil')])"
      ]
     },
     "execution_count": 71,
     "metadata": {},
     "output_type": "execute_result"
    },
    {
     "data": {
      "image/png": "[encoded data removed]",
      "text/plain": [
       "<Figure size 1200x600 with 1 Axes>"
      ]
     },
     "metadata": {},
     "output_type": "display_data"
    }
   ],
   "source": [
    "plt.figure(figsize=(12, 6))\n",
    "sns.countplot(x='Component', data=df, order=df['Component'].value_counts().index, color='skyblue')\n",
    "plt.title('Components')\n",
    "plt.xlabel('Component')\n",
    "plt.ylabel('Frequency')\n",
    "plt.xticks(rotation=45)"
   ]
  },
  {
   "cell_type": "markdown",
   "id": "339d85c8",
   "metadata": {},
   "source": [
    "#### Insights: \n",
    "Mostly the data contains information regarding Step_LSC (Likely related to step counting or tracking) "
   ]
  },
  {
   "cell_type": "markdown",
   "id": "52903403",
   "metadata": {},
   "source": [
    "### Daily Steps Analysis"
   ]
  },
  {
   "cell_type": "code",
   "execution_count": 74,
   "id": "7c3cfc75",
   "metadata": {},
   "outputs": [],
   "source": [
    "df['Time'] = pd.to_datetime(df['Time'], format='%Y%m%d-%H:%M:%S:%f')\n",
    "df['Date'] = df['Time'].dt.date\n",
    "df['Minute'] = df['Time'].dt.minute\n",
    "df['Hour'] = df['Time'].dt.hour"
   ]
  },
  {
   "cell_type": "code",
   "execution_count": 75,
   "id": "a3d04030",
   "metadata": {},
   "outputs": [
    {
     "data": {
      "text/html": [
       "<div>\n",
       "<style scoped>\n",
       "    .dataframe tbody tr th:only-of-type {\n",
       "        vertical-align: middle;\n",
       "    }\n",
       "\n",
       "    .dataframe tbody tr th {\n",
       "        vertical-align: top;\n",
       "    }\n",
       "\n",
       "    .dataframe thead th {\n",
       "        text-align: right;\n",
       "    }\n",
       "</style>\n",
       "<table border=\"1\" class=\"dataframe\">\n",
       "  <thead>\n",
       "    <tr style=\"text-align: right;\">\n",
       "      <th></th>\n",
       "      <th>LineId</th>\n",
       "      <th>Time</th>\n",
       "      <th>Component</th>\n",
       "      <th>Pid</th>\n",
       "      <th>Content</th>\n",
       "      <th>EventId</th>\n",
       "      <th>EventTemplate</th>\n",
       "      <th>Hour</th>\n",
       "      <th>Date</th>\n",
       "      <th>Minute</th>\n",
       "    </tr>\n",
       "  </thead>\n",
       "  <tbody>\n",
       "    <tr>\n",
       "      <th>0</th>\n",
       "      <td>1</td>\n",
       "      <td>2017-12-23 22:15:29.606</td>\n",
       "      <td>Step_LSC</td>\n",
       "      <td>30002312</td>\n",
       "      <td>onStandStepChanged 3579</td>\n",
       "      <td>E42</td>\n",
       "      <td>onStandStepChanged &lt;*&gt;</td>\n",
       "      <td>22</td>\n",
       "      <td>2017-12-23</td>\n",
       "      <td>15</td>\n",
       "    </tr>\n",
       "    <tr>\n",
       "      <th>1</th>\n",
       "      <td>2</td>\n",
       "      <td>2017-12-23 22:15:29.615</td>\n",
       "      <td>Step_LSC</td>\n",
       "      <td>30002312</td>\n",
       "      <td>onExtend:1514038530000 14 0 4</td>\n",
       "      <td>E39</td>\n",
       "      <td>onExtend:&lt;*&gt; &lt;*&gt; &lt;*&gt; &lt;*&gt;</td>\n",
       "      <td>22</td>\n",
       "      <td>2017-12-23</td>\n",
       "      <td>15</td>\n",
       "    </tr>\n",
       "    <tr>\n",
       "      <th>2</th>\n",
       "      <td>3</td>\n",
       "      <td>2017-12-23 22:15:29.633</td>\n",
       "      <td>Step_StandReportReceiver</td>\n",
       "      <td>30002312</td>\n",
       "      <td>onReceive action: android.intent.action.SCREEN_ON</td>\n",
       "      <td>E41</td>\n",
       "      <td>onReceive action: android.intent.action.SCREEN_ON</td>\n",
       "      <td>22</td>\n",
       "      <td>2017-12-23</td>\n",
       "      <td>15</td>\n",
       "    </tr>\n",
       "    <tr>\n",
       "      <th>3</th>\n",
       "      <td>4</td>\n",
       "      <td>2017-12-23 22:15:29.635</td>\n",
       "      <td>Step_LSC</td>\n",
       "      <td>30002312</td>\n",
       "      <td>processHandleBroadcastAction action:android.in...</td>\n",
       "      <td>E43</td>\n",
       "      <td>processHandleBroadcastAction action:android.in...</td>\n",
       "      <td>22</td>\n",
       "      <td>2017-12-23</td>\n",
       "      <td>15</td>\n",
       "    </tr>\n",
       "    <tr>\n",
       "      <th>4</th>\n",
       "      <td>5</td>\n",
       "      <td>2017-12-23 22:15:29.635</td>\n",
       "      <td>Step_StandStepCounter</td>\n",
       "      <td>30002312</td>\n",
       "      <td>flush sensor data</td>\n",
       "      <td>E12</td>\n",
       "      <td>flush sensor data</td>\n",
       "      <td>22</td>\n",
       "      <td>2017-12-23</td>\n",
       "      <td>15</td>\n",
       "    </tr>\n",
       "    <tr>\n",
       "      <th>...</th>\n",
       "      <td>...</td>\n",
       "      <td>...</td>\n",
       "      <td>...</td>\n",
       "      <td>...</td>\n",
       "      <td>...</td>\n",
       "      <td>...</td>\n",
       "      <td>...</td>\n",
       "      <td>...</td>\n",
       "      <td>...</td>\n",
       "      <td>...</td>\n",
       "    </tr>\n",
       "    <tr>\n",
       "      <th>1995</th>\n",
       "      <td>1996</td>\n",
       "      <td>2017-12-24 00:58:53.985</td>\n",
       "      <td>Step_LSC</td>\n",
       "      <td>30002312</td>\n",
       "      <td>processHandleBroadcastAction action:android.in...</td>\n",
       "      <td>E44</td>\n",
       "      <td>processHandleBroadcastAction action:android.in...</td>\n",
       "      <td>0</td>\n",
       "      <td>2017-12-24</td>\n",
       "      <td>58</td>\n",
       "    </tr>\n",
       "    <tr>\n",
       "      <th>1996</th>\n",
       "      <td>1997</td>\n",
       "      <td>2017-12-24 00:59:07.581</td>\n",
       "      <td>Step_LSC</td>\n",
       "      <td>30002312</td>\n",
       "      <td>processHandleBroadcastAction action:android.in...</td>\n",
       "      <td>E44</td>\n",
       "      <td>processHandleBroadcastAction action:android.in...</td>\n",
       "      <td>0</td>\n",
       "      <td>2017-12-24</td>\n",
       "      <td>59</td>\n",
       "    </tr>\n",
       "    <tr>\n",
       "      <th>1997</th>\n",
       "      <td>1998</td>\n",
       "      <td>2017-12-24 01:00:00.794</td>\n",
       "      <td>Step_LSC</td>\n",
       "      <td>30002312</td>\n",
       "      <td>processHandleBroadcastAction action:android.in...</td>\n",
       "      <td>E44</td>\n",
       "      <td>processHandleBroadcastAction action:android.in...</td>\n",
       "      <td>1</td>\n",
       "      <td>2017-12-24</td>\n",
       "      <td>0</td>\n",
       "    </tr>\n",
       "    <tr>\n",
       "      <th>1998</th>\n",
       "      <td>1999</td>\n",
       "      <td>2017-12-24 01:01:00.935</td>\n",
       "      <td>Step_LSC</td>\n",
       "      <td>30002312</td>\n",
       "      <td>processHandleBroadcastAction action:android.in...</td>\n",
       "      <td>E44</td>\n",
       "      <td>processHandleBroadcastAction action:android.in...</td>\n",
       "      <td>1</td>\n",
       "      <td>2017-12-24</td>\n",
       "      <td>1</td>\n",
       "    </tr>\n",
       "    <tr>\n",
       "      <th>1999</th>\n",
       "      <td>2000</td>\n",
       "      <td>2017-12-24 01:02:35.789</td>\n",
       "      <td>Step_LSC</td>\n",
       "      <td>30002312</td>\n",
       "      <td>processHandleBroadcastAction action:android.in...</td>\n",
       "      <td>E44</td>\n",
       "      <td>processHandleBroadcastAction action:android.in...</td>\n",
       "      <td>1</td>\n",
       "      <td>2017-12-24</td>\n",
       "      <td>2</td>\n",
       "    </tr>\n",
       "  </tbody>\n",
       "</table>\n",
       "<p>2000 rows × 10 columns</p>\n",
       "</div>"
      ],
      "text/plain": [
       "      LineId                    Time                 Component       Pid  \\\n",
       "0          1 2017-12-23 22:15:29.606                  Step_LSC  30002312   \n",
       "1          2 2017-12-23 22:15:29.615                  Step_LSC  30002312   \n",
       "2          3 2017-12-23 22:15:29.633  Step_StandReportReceiver  30002312   \n",
       "3          4 2017-12-23 22:15:29.635                  Step_LSC  30002312   \n",
       "4          5 2017-12-23 22:15:29.635     Step_StandStepCounter  30002312   \n",
       "...      ...                     ...                       ...       ...   \n",
       "1995    1996 2017-12-24 00:58:53.985                  Step_LSC  30002312   \n",
       "1996    1997 2017-12-24 00:59:07.581                  Step_LSC  30002312   \n",
       "1997    1998 2017-12-24 01:00:00.794                  Step_LSC  30002312   \n",
       "1998    1999 2017-12-24 01:01:00.935                  Step_LSC  30002312   \n",
       "1999    2000 2017-12-24 01:02:35.789                  Step_LSC  30002312   \n",
       "\n",
       "                                                Content EventId  \\\n",
       "0                               onStandStepChanged 3579     E42   \n",
       "1                         onExtend:1514038530000 14 0 4     E39   \n",
       "2     onReceive action: android.intent.action.SCREEN_ON     E41   \n",
       "3     processHandleBroadcastAction action:android.in...     E43   \n",
       "4                                     flush sensor data     E12   \n",
       "...                                                 ...     ...   \n",
       "1995  processHandleBroadcastAction action:android.in...     E44   \n",
       "1996  processHandleBroadcastAction action:android.in...     E44   \n",
       "1997  processHandleBroadcastAction action:android.in...     E44   \n",
       "1998  processHandleBroadcastAction action:android.in...     E44   \n",
       "1999  processHandleBroadcastAction action:android.in...     E44   \n",
       "\n",
       "                                          EventTemplate  Hour        Date  \\\n",
       "0                                onStandStepChanged <*>    22  2017-12-23   \n",
       "1                              onExtend:<*> <*> <*> <*>    22  2017-12-23   \n",
       "2     onReceive action: android.intent.action.SCREEN_ON    22  2017-12-23   \n",
       "3     processHandleBroadcastAction action:android.in...    22  2017-12-23   \n",
       "4                                     flush sensor data    22  2017-12-23   \n",
       "...                                                 ...   ...         ...   \n",
       "1995  processHandleBroadcastAction action:android.in...     0  2017-12-24   \n",
       "1996  processHandleBroadcastAction action:android.in...     0  2017-12-24   \n",
       "1997  processHandleBroadcastAction action:android.in...     1  2017-12-24   \n",
       "1998  processHandleBroadcastAction action:android.in...     1  2017-12-24   \n",
       "1999  processHandleBroadcastAction action:android.in...     1  2017-12-24   \n",
       "\n",
       "      Minute  \n",
       "0         15  \n",
       "1         15  \n",
       "2         15  \n",
       "3         15  \n",
       "4         15  \n",
       "...      ...  \n",
       "1995      58  \n",
       "1996      59  \n",
       "1997       0  \n",
       "1998       1  \n",
       "1999       2  \n",
       "\n",
       "[2000 rows x 10 columns]"
      ]
     },
     "execution_count": 75,
     "metadata": {},
     "output_type": "execute_result"
    }
   ],
   "source": [
    "df"
   ]
  },
  {
   "cell_type": "code",
   "execution_count": 15,
   "id": "6abc728a",
   "metadata": {},
   "outputs": [],
   "source": [
    "info_steps = df[df['EventId'].isin(['E1', 'E17', 'E20', 'E42']) | (df['Content'].str.contains('onStandStepChanged'))]"
   ]
  },
  {
   "cell_type": "code",
   "execution_count": 16,
   "id": "96e48db0",
   "metadata": {},
   "outputs": [
    {
     "data": {
      "text/plain": [
       "Index(['LineId', 'Time', 'Component', 'Pid', 'Content', 'EventId',\n",
       "       'EventTemplate', 'Hour', 'Date'],\n",
       "      dtype='object')"
      ]
     },
     "execution_count": 16,
     "metadata": {},
     "output_type": "execute_result"
    }
   ],
   "source": [
    "info_steps.columns"
   ]
  },
  {
   "cell_type": "code",
   "execution_count": 17,
   "id": "57fe564a",
   "metadata": {},
   "outputs": [
    {
     "data": {
      "text/plain": [
       "(265, 9)"
      ]
     },
     "execution_count": 17,
     "metadata": {},
     "output_type": "execute_result"
    }
   ],
   "source": [
    "info_steps.shape"
   ]
  },
  {
   "cell_type": "code",
   "execution_count": 18,
   "id": "5d7d2e32",
   "metadata": {},
   "outputs": [],
   "source": [
    "# calculate daily steps\n",
    "daily_steps = info_steps.groupby('Date').size()"
   ]
  },
  {
   "cell_type": "code",
   "execution_count": 19,
   "id": "65a672cc",
   "metadata": {},
   "outputs": [
    {
     "data": {
      "text/plain": [
       "array([datetime.date(2017, 12, 23), datetime.date(2017, 12, 24)],\n",
       "      dtype=object)"
      ]
     },
     "execution_count": 19,
     "metadata": {},
     "output_type": "execute_result"
    }
   ],
   "source": [
    "info_steps['Date'].unique()"
   ]
  },
  {
   "cell_type": "code",
   "execution_count": 20,
   "id": "ec452d92",
   "metadata": {},
   "outputs": [
    {
     "data": {
      "text/plain": [
       "Text(0, 0.5, 'Total Steps')"
      ]
     },
     "execution_count": 20,
     "metadata": {},
     "output_type": "execute_result"
    },
    {
     "data": {
      "image/png": "[encoded data removed]",
      "text/plain": [
       "<Figure size 1200x600 with 1 Axes>"
      ]
     },
     "metadata": {},
     "output_type": "display_data"
    }
   ],
   "source": [
    "plt.figure(figsize=(12, 6))\n",
    "sns.barplot(x=daily_steps.index, y=daily_steps.values)\n",
    "plt.title('Daily Steps Over Time')\n",
    "plt.xlabel('Date')\n",
    "plt.ylabel('Total Steps')"
   ]
  },
  {
   "cell_type": "markdown",
   "id": "a707678b",
   "metadata": {},
   "source": [
    "#### Insights\n",
    "The graph indicates the total number of daily steps taken over time, showing increased activity at the early stage of app usage."
   ]
  },
  {
   "cell_type": "markdown",
   "id": "4c97ba7e",
   "metadata": {},
   "source": [
    "### Workout Times Analysis"
   ]
  },
  {
   "cell_type": "code",
   "execution_count": 21,
   "id": "ee194c2a",
   "metadata": {},
   "outputs": [],
   "source": [
    "workout_events = df[df['EventId'].isin(['E21', 'E61']) | (df['Content'].str.contains('startInsertSportSync'))]"
   ]
  },
  {
   "cell_type": "code",
   "execution_count": 22,
   "id": "540a7944",
   "metadata": {},
   "outputs": [],
   "source": [
    "# Assuming 'start' and 'end' are markers in the 'Content' column\n",
    "workout_events['WorkoutStart'] = workout_events['Content'].str.contains('start')\n",
    "workout_events['WorkoutEnd'] = workout_events['Content'].str.contains('end')\n",
    "\n",
    "# Assuming 'startInsertSportSync' indicates workout start\n",
    "workout_events.loc[workout_events['EventId'] == 'startInsertSportSync', 'WorkoutStart'] = True"
   ]
  },
  {
   "cell_type": "code",
   "execution_count": 23,
   "id": "d10ed18c",
   "metadata": {},
   "outputs": [],
   "source": [
    "workout_durations = workout_events.groupby('Hour')['Time'].diff().dt.total_seconds() / 60  # Duration in minutes"
   ]
  },
  {
   "cell_type": "code",
   "execution_count": 24,
   "id": "6971c654",
   "metadata": {},
   "outputs": [
    {
     "data": {
      "text/plain": [
       "Text(0, 0.5, 'Frequency')"
      ]
     },
     "execution_count": 24,
     "metadata": {},
     "output_type": "execute_result"
    },
    {
     "data": {
      "image/png": "[encoded data removed]",
      "text/plain": [
       "<Figure size 1200x600 with 1 Axes>"
      ]
     },
     "metadata": {},
     "output_type": "display_data"
    }
   ],
   "source": [
    "plt.figure(figsize=(12, 6))\n",
    "sns.histplot(workout_durations, bins=20, kde=True, color='Purple')\n",
    "plt.title('Distribution of Workout Durations')\n",
    "plt.xlabel('Workout Duration (minutes)')\n",
    "plt.ylabel('Frequency')"
   ]
  },
  {
   "cell_type": "markdown",
   "id": "445b3180",
   "metadata": {},
   "source": [
    "#### Insights \n",
    "Common workout durations appear to be around 20 minutes, with the average duration likely between 20 and 30 minutes."
   ]
  },
  {
   "cell_type": "markdown",
   "id": "34922663",
   "metadata": {},
   "source": [
    "### Active Periods Analysis"
   ]
  },
  {
   "cell_type": "code",
   "execution_count": 47,
   "id": "e5693ff8",
   "metadata": {},
   "outputs": [
    {
     "data": {
      "text/plain": [
       "Text(0, 0.5, 'Count')"
      ]
     },
     "execution_count": 47,
     "metadata": {},
     "output_type": "execute_result"
    },
    {
     "data": {
      "image/png": "[encoded data removed]",
      "text/plain": [
       "<Figure size 1200x600 with 1 Axes>"
      ]
     },
     "metadata": {},
     "output_type": "display_data"
    }
   ],
   "source": [
    "plt.figure(figsize=(12, 6))\n",
    "sns.histplot(df['Hour'], bins=24, kde=True, color='skyblue')\n",
    "plt.title('Distribution of Events Across Different Times')\n",
    "plt.xlabel('Hour of the Day')\n",
    "plt.ylabel('Count')"
   ]
  },
  {
   "cell_type": "markdown",
   "id": "d35d378c",
   "metadata": {},
   "source": [
    "#### Insight  \n",
    "The most active hours are in the late evenings, suggesting that people tend to exercise more during that time."
   ]
  },
  {
   "cell_type": "markdown",
   "id": "48a67301",
   "metadata": {},
   "source": [
    "### Most Occuring Event"
   ]
  },
  {
   "cell_type": "code",
   "execution_count": 66,
   "id": "f13de9b8",
   "metadata": {},
   "outputs": [
    {
     "data": {
      "text/plain": [
       "([<matplotlib.axis.XTick at 0x13a7bce0a10>,\n",
       "  <matplotlib.axis.XTick at 0x13a77c1a8d0>],\n",
       " [Text(1, 0, 'E42'), Text(75, 0, '')])"
      ]
     },
     "execution_count": 66,
     "metadata": {},
     "output_type": "execute_result"
    },
    {
     "data": {
      "image/png": "[encoded data removed]",
      "text/plain": [
       "<Figure size 1200x600 with 1 Axes>"
      ]
     },
     "metadata": {},
     "output_type": "display_data"
    }
   ],
   "source": [
    "plt.figure(figsize=(12, 6))\n",
    "sns.countplot(x='EventId', data=df, order=df['EventId'].value_counts().index, color='skyblue')\n",
    "plt.title(\"Occurring Event\")\n",
    "plt.xlabel('EventId')\n",
    "plt.ylabel('Frequency')\n",
    "plt.xticks([1,75])"
   ]
  },
  {
   "cell_type": "markdown",
   "id": "7cf9416e",
   "metadata": {},
   "source": [
    "#### Insights :\n",
    "The app primarily tracks steps when the person is standing, indicated by EventId 'E24'."
   ]
  },
  {
   "cell_type": "markdown",
   "id": "70c28fa8",
   "metadata": {},
   "source": [
    "### Sleep Schedule Analysis"
   ]
  },
  {
   "cell_type": "code",
   "execution_count": 32,
   "id": "20a695e0",
   "metadata": {},
   "outputs": [],
   "source": [
    "sleep_periods = df[df['EventId'].isin(['E5', 'E68']) ] #| (df['EventId'] == 'inactive')"
   ]
  },
  {
   "cell_type": "code",
   "execution_count": 38,
   "id": "8d65df68",
   "metadata": {},
   "outputs": [],
   "source": [
    "# Assuming 'inactive' events indicate inactivity\n",
    "sleep_periods['IsSleep'] = sleep_periods['EventId'] == 'inactive'"
   ]
  },
  {
   "cell_type": "code",
   "execution_count": 48,
   "id": "e6067c56",
   "metadata": {},
   "outputs": [],
   "source": [
    "# Calculate time differences between sleep periods\n",
    "sleep_periods['SleepDuration'] = sleep_periods.groupby('Date')['Time'].diff().dt.total_seconds()/3600  # Duration in hours"
   ]
  },
  {
   "cell_type": "code",
   "execution_count": 28,
   "id": "fc150d76",
   "metadata": {},
   "outputs": [
    {
     "data": {
      "text/plain": [
       "([<matplotlib.axis.YTick at 0x13a74bbf190>,\n",
       "  <matplotlib.axis.YTick at 0x13a74544110>],\n",
       " [Text(0, 0, 'Awake'), Text(0, 1, 'Asleep')])"
      ]
     },
     "execution_count": 28,
     "metadata": {},
     "output_type": "execute_result"
    },
    {
     "data": {
      "image/png": "[encoded data removed]",
      "text/plain": [
       "<Figure size 1500x300 with 1 Axes>"
      ]
     },
     "metadata": {},
     "output_type": "display_data"
    }
   ],
   "source": [
    "# Create a sleep tracker timeline\n",
    "plt.figure(figsize=(15, 3))\n",
    "plt.plot(sleep_periods['Time'], sleep_periods['IsSleep'], marker='o')\n",
    "plt.title('Sleep Tracker Timeline')\n",
    "plt.xlabel('Time')\n",
    "plt.yticks([0, 1], ['Awake', 'Asleep'])"
   ]
  },
  {
   "cell_type": "markdown",
   "id": "cec7c241",
   "metadata": {},
   "source": [
    "#### Insights \n",
    "With only 2 days of data, it's challenging to evaluate sleep patterns. More detailed data would provide a better understanding."
   ]
  },
  {
   "cell_type": "markdown",
   "id": "24d3493d",
   "metadata": {},
   "source": [
    "#### Moreover, \n",
    "if the data gets more detailed with more information. \n",
    "we can make a ML model so as to Predict Active Times.\n",
    "\n",
    "•Prediction of Active Times: Machine learning algorithms, such as Unsupervised Clustering (e.g., K-Means or DBSCAN), can be applied to identify patterns of activity.\n"
   ]
  },
  {
   "cell_type": "markdown",
   "id": "113d0340",
   "metadata": {},
   "source": [
    "•Anomaly Detection: Identify unusual patterns or anomalies in activity.\n"
   ]
  },
  {
   "cell_type": "markdown",
   "id": "4a32657a",
   "metadata": {},
   "source": [
    "•Recommendation System: Provide personalized workout recommendations based on historical data."
   ]
  },
  {
   "cell_type": "code",
   "execution_count": null,
   "id": "4a58a216",
   "metadata": {},
   "outputs": [],
   "source": []
  }
 ],
 "metadata": {
  "kernelspec": {
   "display_name": "Python 3 (ipykernel)",
   "language": "python",
   "name": "python3"
  },
  "language_info": {
   "codemirror_mode": {
    "name": "ipython",
    "version": 3
   },
   "file_extension": ".py",
   "mimetype": "text/x-python",
   "name": "python",
   "nbconvert_exporter": "python",
   "pygments_lexer": "ipython3",
   "version": "3.11.5"
  }
 },
 "nbformat": 4,
 "nbformat_minor": 5
}
